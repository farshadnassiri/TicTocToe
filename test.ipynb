{
 "cells": [
  {
   "cell_type": "code",
   "execution_count": 38,
   "id": "7481d050",
   "metadata": {},
   "outputs": [],
   "source": [
    "import random\n",
    "\n",
    "\n",
    "class ticTocToe:\n",
    "    def __init__(self):\n",
    "        self.board=[\" \"]*10\n",
    "        self.player_turn= self.get_random_first_player()\n",
    "\n",
    "    def get_random_first_player(self):\n",
    "        return \"X\" if random.choice([\"X\",\"O\"]) == \"X\" else \"O\"  \n",
    "\n",
    "    def fix_spot(self,cell,player):\n",
    "        self.board[cell]=player   \n",
    "\n",
    "    def has_player_won(self,player):\n",
    "        win_combinations = [(1, 2, 3), (4, 5, 6), (7, 8, 9),\n",
    "                            (1, 4, 7), (2, 5, 8), (3, 6, 9),\n",
    "                            (1, 5, 9), (3, 5, 7)] \n",
    "        for combination in win_combinations:\n",
    "            if self.board[combination[0]] == self.board[combination[1]] == self.board[combination[2]] == player:\n",
    "                return True\n",
    "        return False        \n",
    "\n",
    "    def is_board_filled(self):\n",
    "        return \" \" not in self.board \n",
    "\n",
    "    def swap_player_turn(self):\n",
    "        self.player_turn = \"X\" if self.swap_player_turn == \"O\" else \"O\" \n",
    "\n",
    "    def show_board(self):\n",
    "        print(\"\\n\")\n",
    "        rows = [[self.board[i+j] for i in range(1, 4)] for j in range(0, 7, 3)]\n",
    "        for row in rows:\n",
    "            print(row)\n",
    "        print(\"\\n\")    \n",
    "\n",
    "    def start(self):\n",
    "        while True:\n",
    "            self.show_board()\n",
    "            try:\n",
    "                cell = int(input(f\"Player {self.player_turn}, Enter the cell number: \"))\n",
    "                if cell in range(1, 10) and self.board[cell] == ' ':\n",
    "                    self.fix_spot(cell, self.player_turn)\n",
    "\n",
    "                    if self.has_player_won(self.player_turn):\n",
    "                        print(f\"Player {self.player_turn} wins!\")\n",
    "                        break\n",
    "                    if self.is_board_filled():\n",
    "                        print(\"It's a Draw!\")\n",
    "                        break\n",
    "\n",
    "                    self.swap_player_turn()\n",
    "\n",
    "\n",
    "                else:\n",
    "                    print(\"Invalid input, please try again.\")    \n",
    "            except ValueError:\n",
    "                print(\"Invalid input, please enter a number between 1 and 9.\")    \n",
    "\n",
    "        \n",
    "             \n"
   ]
  },
  {
   "cell_type": "code",
   "execution_count": 39,
   "id": "8bf4be00",
   "metadata": {},
   "outputs": [
    {
     "data": {
      "text/plain": [
       "'X'"
      ]
     },
     "execution_count": 39,
     "metadata": {},
     "output_type": "execute_result"
    }
   ],
   "source": [
    "game=ticTocToe()\n",
    "game.get_random_first_player()\n"
   ]
  }
 ],
 "metadata": {
  "kernelspec": {
   "display_name": "base",
   "language": "python",
   "name": "python3"
  },
  "language_info": {
   "codemirror_mode": {
    "name": "ipython",
    "version": 3
   },
   "file_extension": ".py",
   "mimetype": "text/x-python",
   "name": "python",
   "nbconvert_exporter": "python",
   "pygments_lexer": "ipython3",
   "version": "3.13.5"
  }
 },
 "nbformat": 4,
 "nbformat_minor": 5
}
